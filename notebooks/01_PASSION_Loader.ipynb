{
 "cells": [
  {
   "cell_type": "markdown",
   "id": "3d01bac3",
   "metadata": {},
   "source": [
    "# PASSION Dataset Loader"
   ]
  },
  {
   "cell_type": "code",
   "execution_count": null,
   "id": "ad3f3d38",
   "metadata": {},
   "outputs": [],
   "source": [
    "!pip install -r ../requirements.txt -q"
   ]
  },
  {
   "cell_type": "code",
   "execution_count": null,
   "id": "9fbfc6a0",
   "metadata": {},
   "outputs": [],
   "source": [
    "import re\n",
    "import pandas as pd\n",
    "from pathlib import Path\n",
    "from PIL import Image\n",
    "import matplotlib.pyplot as plt\n",
    "from sklearn.model_selection import train_test_split\n",
    "import numpy as np\n",
    "from torchvision import transforms\n",
    "\n",
    "import sys\n",
    "\n",
    "sys.path.append(\"../\")\n",
    "\n",
    "from ssl_library.src.datasets.downstream_tasks.passion_dataset import PASSIONLabel\n",
    "from ssl_library.src.datasets.helper import DatasetName, get_dataset"
   ]
  },
  {
   "cell_type": "code",
   "execution_count": null,
   "id": "961115e7",
   "metadata": {},
   "outputs": [],
   "source": [
    "save_fig_path = Path(\"../assets/notebook_outputs/\")\n",
    "dataset_name = DatasetName.PASSION"
   ]
  },
  {
   "cell_type": "code",
   "execution_count": null,
   "id": "8490a750",
   "metadata": {},
   "outputs": [],
   "source": [
    "!ls ../data/PASSION_collection_2020_2023"
   ]
  },
  {
   "cell_type": "code",
   "execution_count": null,
   "id": "840706a7",
   "metadata": {},
   "outputs": [],
   "source": [
    "dataset, torch_dataset = get_dataset(\n",
    "    dataset_name=dataset_name,\n",
    "    dataset_path=Path(\"../data/PASSION_collection_2020_2023\"),\n",
    "    split_file=\"PASSION_split.csv\",\n",
    "    batch_size=16,\n",
    "    # label_col=PASSIONLabel.IMPETIGO,\n",
    "    return_fitzpatrick=False,\n",
    "    image_extensions=(\"*.jpeg\", \"*.jpg\", \"*.JPG\", \"*.JPEG\", \"*.PNG\", \"*.png\"),\n",
    ")\n",
    "\n",
    "len(dataset)"
   ]
  },
  {
   "cell_type": "code",
   "execution_count": null,
   "id": "bc48a6da",
   "metadata": {},
   "outputs": [],
   "source": [
    "dataset[0]"
   ]
  },
  {
   "cell_type": "code",
   "execution_count": null,
   "id": "fae5dddd",
   "metadata": {},
   "outputs": [],
   "source": [
    "dataset.meta_data.head()"
   ]
  },
  {
   "cell_type": "code",
   "execution_count": null,
   "id": "bc1f8481",
   "metadata": {},
   "outputs": [],
   "source": [
    "dataset.meta_data.to_csv(\"actual_merged_passion.csv\", index=False)"
   ]
  },
  {
   "cell_type": "code",
   "execution_count": null,
   "id": "321a5c0d",
   "metadata": {},
   "outputs": [],
   "source": [
    "dataset.meta_data[\"subject_id\"].value_counts()"
   ]
  },
  {
   "cell_type": "code",
   "execution_count": null,
   "id": "c3674e83",
   "metadata": {},
   "outputs": [],
   "source": [
    "df = pd.read_csv(\n",
    "    \"../data/PASSION_collection_2020_2023/passion_cleaned_final_case_level.csv\"\n",
    ")\n",
    "df.drop(columns=[\"Unnamed: 0\", \"diagnosis\"], inplace=True)\n",
    "df[\"impetig\"] = df[\"impetig\"].fillna(0.0)\n",
    "# df[\"Subject\"] = df[\"Subject\"].apply(lambda x: x.split(\"-\")[0])\n",
    "df.head()"
   ]
  },
  {
   "cell_type": "code",
   "execution_count": null,
   "id": "ea1e2503",
   "metadata": {},
   "outputs": [],
   "source": [
    "df[\"subject_id\"].value_counts()"
   ]
  },
  {
   "cell_type": "code",
   "execution_count": null,
   "id": "d3562f2e",
   "metadata": {},
   "outputs": [],
   "source": [
    "dataset.meta_data[\"country\"].value_counts()"
   ]
  },
  {
   "cell_type": "code",
   "execution_count": null,
   "id": "aea658c4",
   "metadata": {},
   "outputs": [],
   "source": [
    "len(\n",
    "    dataset.meta_data[dataset.meta_data[\"country\"] == \"Tanzania\"][\"subject_id\"].unique()\n",
    ")"
   ]
  },
  {
   "cell_type": "code",
   "execution_count": null,
   "id": "2a4c5e9b",
   "metadata": {},
   "outputs": [],
   "source": [
    "allowed_localizations = [\"arm\", \"back\", \"foot\", \"hair\", \"hand\", \"leg\", \"torso\"]\n",
    "dataset.meta_data = dataset.meta_data[\n",
    "    dataset.meta_data[\"body_loc\"]\n",
    "    .fillna(\"\")\n",
    "    .apply(lambda x: any([l in x for l in allowed_localizations]))\n",
    "]"
   ]
  },
  {
   "cell_type": "code",
   "execution_count": null,
   "id": "8b868efe",
   "metadata": {},
   "outputs": [],
   "source": [
    "# randomly shuffle the dataset\n",
    "dataset.meta_data = dataset.meta_data.sample(frac=1.0)\n",
    "dataset.meta_data.reset_index(drop=True, inplace=True)"
   ]
  },
  {
   "cell_type": "code",
   "execution_count": null,
   "id": "50c5ea5d",
   "metadata": {},
   "outputs": [],
   "source": [
    "remove_idx = [2, 4, 23, 30, 37, 34, 31, 32, 44, 45, 48, 52]\n",
    "l_indices = np.asarray(list(range(9 * 6)))\n",
    "l_indices = np.delete(l_indices, remove_idx)\n",
    "l_indices = list(l_indices) + list(range(9 * 6, 9 * 6 + len(remove_idx)))\n",
    "\n",
    "l_indices = np.asarray(l_indices)\n",
    "l_indices = np.delete(l_indices, [48])\n",
    "l_indices = list(l_indices) + [67]"
   ]
  },
  {
   "cell_type": "code",
   "execution_count": null,
   "id": "95177880",
   "metadata": {},
   "outputs": [],
   "source": [
    "fig, axes = plt.subplots(9, 6, figsize=(8.27, 11.69))\n",
    "index = 0\n",
    "for h_idx, h_ax in enumerate(axes):\n",
    "    for v_idx, ax in enumerate(h_ax):\n",
    "        i = l_indices[index]\n",
    "        ax.imshow(transforms.Resize((256, 256))(dataset[i][0]))\n",
    "        ax.set_xticks([])\n",
    "        ax.set_yticks([])\n",
    "        ax.set_aspect(\"equal\")\n",
    "        ax.axis(\"off\")\n",
    "        # ax.set_title(i)\n",
    "        index += 1\n",
    "\n",
    "fig.patch.set_visible(False)\n",
    "fig.subplots_adjust(wspace=0.025, hspace=0.025)\n",
    "plt.savefig(\n",
    "    save_fig_path / \"passion_montage.pdf\",\n",
    "    bbox_inches=\"tight\",\n",
    ")\n",
    "plt.show()"
   ]
  },
  {
   "cell_type": "code",
   "execution_count": null,
   "id": "b22402c4",
   "metadata": {},
   "outputs": [],
   "source": [
    "dataset.meta_data.loc[14]"
   ]
  },
  {
   "cell_type": "code",
   "execution_count": null,
   "id": "48eb66ad",
   "metadata": {},
   "outputs": [],
   "source": [
    "dataset.meta_data[\n",
    "    (dataset.meta_data[\"fitzpatrick\"] == 4)\n",
    "    & (dataset.meta_data[\"conditions_PASSION\"] == \"Others\")\n",
    "].iloc[15]"
   ]
  },
  {
   "cell_type": "code",
   "execution_count": null,
   "id": "c9d32f99",
   "metadata": {},
   "outputs": [],
   "source": [
    "plt.imshow(transforms.Resize((256, 256))(dataset[658][0]))\n",
    "plt.xticks([])\n",
    "plt.yticks([])\n",
    "plt.show()"
   ]
  },
  {
   "cell_type": "code",
   "execution_count": null,
   "id": "3b09a58d",
   "metadata": {},
   "outputs": [],
   "source": []
  },
  {
   "cell_type": "markdown",
   "id": "7a8b257d",
   "metadata": {},
   "source": [
    "## Train Splitting\n",
    "\n",
    "Splitting based on: classes, subject_id, country"
   ]
  },
  {
   "cell_type": "code",
   "execution_count": null,
   "id": "c8d74607",
   "metadata": {},
   "outputs": [],
   "source": [
    "_df = dataset.meta_data.groupby(\"subject_id\").agg(list)\n",
    "for _c in [\"conditions_PASSION\", \"country\", \"sex\", \"age\", \"fitzpatrick\", \"body_loc\"]:\n",
    "    display(_df[_c].apply(lambda x: len(set(x))).value_counts())"
   ]
  },
  {
   "cell_type": "code",
   "execution_count": null,
   "id": "88a2a129",
   "metadata": {},
   "outputs": [],
   "source": [
    "df_splitting = dataset.meta_data.drop_duplicates(subset=[\"subject_id\"])\n",
    "stratified_label = df_splitting[\"conditions_PASSION\"].astype(str) + df_splitting[\n",
    "    \"country\"\n",
    "].astype(str)\n",
    "subjects_train, subjects_test = train_test_split(\n",
    "    df_splitting[\"subject_id\"].values,\n",
    "    stratify=stratified_label,\n",
    "    train_size=0.80,\n",
    "    random_state=42,\n",
    ")"
   ]
  },
  {
   "cell_type": "code",
   "execution_count": null,
   "id": "04ae25b7",
   "metadata": {},
   "outputs": [],
   "source": [
    "subjects_train.shape, subjects_test.shape"
   ]
  },
  {
   "cell_type": "code",
   "execution_count": null,
   "id": "c79a7eae",
   "metadata": {},
   "outputs": [],
   "source": [
    "df_train = dataset.meta_data[dataset.meta_data[\"subject_id\"].isin(subjects_train)]\n",
    "df_test = dataset.meta_data[dataset.meta_data[\"subject_id\"].isin(subjects_test)]"
   ]
  },
  {
   "cell_type": "code",
   "execution_count": null,
   "id": "eb08839a",
   "metadata": {},
   "outputs": [],
   "source": [
    "_sel_train = dataset.meta_data[\"subject_id\"].isin(subjects_train)\n",
    "_sel_test = dataset.meta_data[\"subject_id\"].isin(subjects_test)\n",
    "dataset.meta_data.loc[_sel_train, \"Split\"] = \"TRAIN\"\n",
    "dataset.meta_data.loc[_sel_test, \"Split\"] = \"TEST\""
   ]
  },
  {
   "cell_type": "code",
   "execution_count": null,
   "id": "ce67adda",
   "metadata": {},
   "outputs": [],
   "source": [
    "dataset.meta_data[\"Split\"].value_counts()"
   ]
  },
  {
   "cell_type": "code",
   "execution_count": null,
   "id": "91f94c03",
   "metadata": {},
   "outputs": [],
   "source": [
    "set.intersection(\n",
    "    set(df_train[\"subject_id\"].unique()), set(df_test[\"subject_id\"].unique())\n",
    ")"
   ]
  },
  {
   "cell_type": "code",
   "execution_count": null,
   "id": "6f9a94e9",
   "metadata": {},
   "outputs": [],
   "source": [
    "df_subjects_train = pd.DataFrame(subjects_train, columns=[\"subject_id\"])\n",
    "df_subjects_train[\"Split\"] = \"TRAIN\"\n",
    "\n",
    "df_subjects_test = pd.DataFrame(subjects_test, columns=[\"subject_id\"])\n",
    "df_subjects_test[\"Split\"] = \"TEST\"\n",
    "\n",
    "pd.concat([df_subjects_train, df_subjects_test]).to_csv(\n",
    "    \"../data/PASSION_collection_2020_2023/PASSION_split.csv\", index=False\n",
    ")"
   ]
  },
  {
   "cell_type": "code",
   "execution_count": null,
   "id": "30e8a90e",
   "metadata": {},
   "outputs": [],
   "source": [
    "for _c in [\"conditions_PASSION\", \"country\"]:\n",
    "    for _df in [df_train, df_test]:\n",
    "        _df[_c].value_counts().plot(kind=\"bar\", figsize=(5, 3))\n",
    "        plt.show()"
   ]
  },
  {
   "cell_type": "code",
   "execution_count": null,
   "id": "24c75c47",
   "metadata": {},
   "outputs": [],
   "source": []
  },
  {
   "cell_type": "code",
   "execution_count": null,
   "id": "32747283",
   "metadata": {},
   "outputs": [],
   "source": []
  },
  {
   "cell_type": "code",
   "execution_count": null,
   "id": "957edf14",
   "metadata": {},
   "outputs": [],
   "source": []
  },
  {
   "cell_type": "code",
   "execution_count": null,
   "id": "a30b3266",
   "metadata": {},
   "outputs": [],
   "source": []
  },
  {
   "cell_type": "code",
   "execution_count": null,
   "id": "971002b9",
   "metadata": {},
   "outputs": [],
   "source": []
  },
  {
   "cell_type": "code",
   "execution_count": null,
   "id": "9200a521",
   "metadata": {},
   "outputs": [],
   "source": []
  }
 ],
 "metadata": {
  "kernelspec": {
   "display_name": "Python 3 (ipykernel)",
   "language": "python",
   "name": "python3"
  },
  "language_info": {
   "codemirror_mode": {
    "name": "ipython",
    "version": 3
   },
   "file_extension": ".py",
   "mimetype": "text/x-python",
   "name": "python",
   "nbconvert_exporter": "python",
   "pygments_lexer": "ipython3"
  }
 },
 "nbformat": 4,
 "nbformat_minor": 5
}
