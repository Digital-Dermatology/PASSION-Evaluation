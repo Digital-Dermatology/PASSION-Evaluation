{
 "cells": [
  {
   "cell_type": "markdown",
   "id": "3d01bac3",
   "metadata": {},
   "source": [
    "# PASSION Dataset Loader"
   ]
  },
  {
   "cell_type": "code",
   "execution_count": 1,
   "id": "ad3f3d38",
   "metadata": {},
   "outputs": [
    {
     "name": "stdout",
     "output_type": "stream",
     "text": [
      "\u001b[31mERROR: pip's dependency resolver does not currently take into account all the packages that are installed. This behaviour is the source of the following dependency conflicts.\n",
      "clean-py 0.5 requires black==22.3.0, but you have black 24.2.0 which is incompatible.\n",
      "clean-py 0.5 requires isort==4.3.21, but you have isort 5.13.2 which is incompatible.\n",
      "label-studio 1.7.1 requires boto3~=1.16.28, but you have boto3 1.33.1 which is incompatible.\n",
      "label-studio 1.7.1 requires botocore~=1.19.28, but you have botocore 1.33.1 which is incompatible.\n",
      "label-studio 1.7.1 requires jsonschema==3.2.0, but you have jsonschema 4.19.2 which is incompatible.\n",
      "label-studio 1.7.1 requires pydantic<=1.8.2,>=1.7.3, but you have pydantic 2.5.2 which is incompatible.\n",
      "label-studio 1.7.1 requires python-dateutil==2.8.1, but you have python-dateutil 2.8.2 which is incompatible.\n",
      "label-studio 1.7.1 requires pytz~=2019.3, but you have pytz 2024.1 which is incompatible.\n",
      "pytest-memray 1.3.0 requires pytest>=7.1.2, but you have pytest 7.0.1 which is incompatible.\u001b[0m\u001b[31m\n",
      "\u001b[0m\n",
      "\u001b[1m[\u001b[0m\u001b[34;49mnotice\u001b[0m\u001b[1;39;49m]\u001b[0m\u001b[39;49m A new release of pip is available: \u001b[0m\u001b[31;49m23.3.1\u001b[0m\u001b[39;49m -> \u001b[0m\u001b[32;49m24.0\u001b[0m\n",
      "\u001b[1m[\u001b[0m\u001b[34;49mnotice\u001b[0m\u001b[1;39;49m]\u001b[0m\u001b[39;49m To update, run: \u001b[0m\u001b[32;49mpython3.9 -m pip install --upgrade pip\u001b[0m\n"
     ]
    }
   ],
   "source": [
    "!pip install -r ../requirements.txt -q"
   ]
  },
  {
   "cell_type": "code",
   "execution_count": 2,
   "id": "9fbfc6a0",
   "metadata": {},
   "outputs": [],
   "source": [
    "import re\n",
    "import pandas as pd\n",
    "from pathlib import Path\n",
    "from PIL import Image\n",
    "import matplotlib.pyplot as plt\n",
    "from sklearn.model_selection import train_test_split\n",
    "\n",
    "import sys\n",
    "sys.path.append(\"../\")\n",
    "\n",
    "from ssl_library.src.datasets.downstream_tasks.passion_dataset import PASSIONLabel\n",
    "from ssl_library.src.datasets.helper import DatasetName, get_dataset"
   ]
  },
  {
   "cell_type": "code",
   "execution_count": 3,
   "id": "961115e7",
   "metadata": {},
   "outputs": [],
   "source": [
    "save_fig_path = Path(\"../assets/notebook_outputs/\")\n",
    "dataset_name = DatasetName.PASSION"
   ]
  },
  {
   "cell_type": "code",
   "execution_count": 4,
   "id": "8490a750",
   "metadata": {},
   "outputs": [
    {
     "name": "stdout",
     "output_type": "stream",
     "text": [
      "data  diverse  PASSION_collection_2020_2023\r\n"
     ]
    }
   ],
   "source": [
    "!ls ../data/PASSION"
   ]
  },
  {
   "cell_type": "code",
   "execution_count": 50,
   "id": "840706a7",
   "metadata": {},
   "outputs": [
    {
     "name": "stdout",
     "output_type": "stream",
     "text": [
      "Loaded `passion` which contains 266 batches with a batch size of 16.\n"
     ]
    },
    {
     "data": {
      "text/plain": [
       "4243"
      ]
     },
     "execution_count": 50,
     "metadata": {},
     "output_type": "execute_result"
    }
   ],
   "source": [
    "dataset, torch_dataset = get_dataset(\n",
    "    dataset_name=dataset_name,\n",
    "    dataset_path=Path(\"../data/PASSION/PASSION_collection_2020_2023\"),\n",
    "    split_file='PASSION_split.csv',\n",
    "    batch_size=16,\n",
    "    #label_col=PASSIONLabel.IMPETIGO,\n",
    "    return_fitzpatrick=False,\n",
    "    image_extensions=(\"*.jpeg\", \"*.jpg\", \"*.JPG\", \"*.JPEG\", \"*.PNG\", \"*.png\"),\n",
    ")\n",
    "\n",
    "len(dataset)"
   ]
  },
  {
   "cell_type": "code",
   "execution_count": 51,
   "id": "95e10950",
   "metadata": {},
   "outputs": [
    {
     "data": {
      "text/plain": [
       "['Others', 'Atopic Dermatitis', 'Dermatophytosis', 'Scabies']"
      ]
     },
     "execution_count": 51,
     "metadata": {},
     "output_type": "execute_result"
    }
   ],
   "source": [
    "dataset.classes"
   ]
  },
  {
   "cell_type": "code",
   "execution_count": 52,
   "id": "bc48a6da",
   "metadata": {},
   "outputs": [
    {
     "data": {
      "text/plain": [
       "(<PIL.Image.Image image mode=RGB size=4032x3024>,\n",
       " '../data/PASSION/PASSION_collection_2020_2023/Subject Files/2022/Files_Matrix_AA00971399/Passion CRF/imageupload_(crf)_5.jpg',\n",
       " 0)"
      ]
     },
     "execution_count": 52,
     "metadata": {},
     "output_type": "execute_result"
    }
   ],
   "source": [
    "dataset[0]"
   ]
  },
  {
   "cell_type": "code",
   "execution_count": 6,
   "id": "fae5dddd",
   "metadata": {},
   "outputs": [
    {
     "data": {
      "text/html": [
       "<div>\n",
       "<style scoped>\n",
       "    .dataframe tbody tr th:only-of-type {\n",
       "        vertical-align: middle;\n",
       "    }\n",
       "\n",
       "    .dataframe tbody tr th {\n",
       "        vertical-align: top;\n",
       "    }\n",
       "\n",
       "    .dataframe thead th {\n",
       "        text-align: right;\n",
       "    }\n",
       "</style>\n",
       "<table border=\"1\" class=\"dataframe\">\n",
       "  <thead>\n",
       "    <tr style=\"text-align: right;\">\n",
       "      <th></th>\n",
       "      <th>img_path</th>\n",
       "      <th>img_name</th>\n",
       "      <th>subject_id</th>\n",
       "      <th>Split</th>\n",
       "      <th>country</th>\n",
       "      <th>Subject</th>\n",
       "      <th>age</th>\n",
       "      <th>sex</th>\n",
       "      <th>fitzpatrick</th>\n",
       "      <th>body_loc</th>\n",
       "      <th>impetig</th>\n",
       "      <th>diagnosis</th>\n",
       "      <th>icd10</th>\n",
       "      <th>icd11</th>\n",
       "      <th>conditions_PASSION</th>\n",
       "      <th>lbl_conditions_PASSION</th>\n",
       "    </tr>\n",
       "  </thead>\n",
       "  <tbody>\n",
       "    <tr>\n",
       "      <th>0</th>\n",
       "      <td>../data/PASSION/PASSION_collection_2020_2023/S...</td>\n",
       "      <td>imageupload_(crf)_2</td>\n",
       "      <td>AA00971820</td>\n",
       "      <td>TRAIN</td>\n",
       "      <td>Madagascar</td>\n",
       "      <td>AA00971820-R P</td>\n",
       "      <td>49</td>\n",
       "      <td>f</td>\n",
       "      <td>5</td>\n",
       "      <td>arm, back, hand, butt</td>\n",
       "      <td>0.0</td>\n",
       "      <td>Scabies</td>\n",
       "      <td>B86</td>\n",
       "      <td>1G04</td>\n",
       "      <td>Scabies</td>\n",
       "      <td>0</td>\n",
       "    </tr>\n",
       "    <tr>\n",
       "      <th>1</th>\n",
       "      <td>../data/PASSION/PASSION_collection_2020_2023/S...</td>\n",
       "      <td>imageupload_(crf)_4</td>\n",
       "      <td>AA00970301</td>\n",
       "      <td>TEST</td>\n",
       "      <td>Guinea</td>\n",
       "      <td>AA00970301-M T</td>\n",
       "      <td>11</td>\n",
       "      <td>m</td>\n",
       "      <td>3</td>\n",
       "      <td>hair</td>\n",
       "      <td>0.0</td>\n",
       "      <td>Tinea Capitis</td>\n",
       "      <td>B35.0</td>\n",
       "      <td>1F28.0</td>\n",
       "      <td>Dermatophytosis</td>\n",
       "      <td>1</td>\n",
       "    </tr>\n",
       "    <tr>\n",
       "      <th>2</th>\n",
       "      <td>../data/PASSION/PASSION_collection_2020_2023/S...</td>\n",
       "      <td>imageupload_(crf)_13</td>\n",
       "      <td>AA00971619</td>\n",
       "      <td>TRAIN</td>\n",
       "      <td>Tanzania</td>\n",
       "      <td>AA00971619-N B</td>\n",
       "      <td>3</td>\n",
       "      <td>m</td>\n",
       "      <td>3</td>\n",
       "      <td>back, hand, torso, arm, leg, butt</td>\n",
       "      <td>0.0</td>\n",
       "      <td>Scabies</td>\n",
       "      <td>B86</td>\n",
       "      <td>1G04</td>\n",
       "      <td>Scabies</td>\n",
       "      <td>0</td>\n",
       "    </tr>\n",
       "    <tr>\n",
       "      <th>3</th>\n",
       "      <td>../data/PASSION/PASSION_collection_2020_2023/S...</td>\n",
       "      <td>1C1C4004-FB05-4208-A67B-B9F2C7AA4849_1</td>\n",
       "      <td>AA00970197</td>\n",
       "      <td>TEST</td>\n",
       "      <td>Madagascar</td>\n",
       "      <td>AA00970197-R H</td>\n",
       "      <td>56</td>\n",
       "      <td>f</td>\n",
       "      <td>4</td>\n",
       "      <td>NaN</td>\n",
       "      <td>1.0</td>\n",
       "      <td>Atopic Dermatitis Impetigenized</td>\n",
       "      <td>L20.82</td>\n",
       "      <td>EA80.2</td>\n",
       "      <td>Atopic Dermatitis</td>\n",
       "      <td>2</td>\n",
       "    </tr>\n",
       "    <tr>\n",
       "      <th>4</th>\n",
       "      <td>../data/PASSION/PASSION_collection_2020_2023/S...</td>\n",
       "      <td>imageupload_(crf)_3</td>\n",
       "      <td>AA00970209</td>\n",
       "      <td>TRAIN</td>\n",
       "      <td>Guinea</td>\n",
       "      <td>AA00970209-M C</td>\n",
       "      <td>21</td>\n",
       "      <td>f</td>\n",
       "      <td>6</td>\n",
       "      <td>arm</td>\n",
       "      <td>0.0</td>\n",
       "      <td>Atopic Dermatitis</td>\n",
       "      <td>L20</td>\n",
       "      <td>EA80</td>\n",
       "      <td>Atopic Dermatitis</td>\n",
       "      <td>2</td>\n",
       "    </tr>\n",
       "  </tbody>\n",
       "</table>\n",
       "</div>"
      ],
      "text/plain": [
       "                                            img_path  \\\n",
       "0  ../data/PASSION/PASSION_collection_2020_2023/S...   \n",
       "1  ../data/PASSION/PASSION_collection_2020_2023/S...   \n",
       "2  ../data/PASSION/PASSION_collection_2020_2023/S...   \n",
       "3  ../data/PASSION/PASSION_collection_2020_2023/S...   \n",
       "4  ../data/PASSION/PASSION_collection_2020_2023/S...   \n",
       "\n",
       "                                 img_name  subject_id  Split     country  \\\n",
       "0                     imageupload_(crf)_2  AA00971820  TRAIN  Madagascar   \n",
       "1                     imageupload_(crf)_4  AA00970301   TEST      Guinea   \n",
       "2                    imageupload_(crf)_13  AA00971619  TRAIN    Tanzania   \n",
       "3  1C1C4004-FB05-4208-A67B-B9F2C7AA4849_1  AA00970197   TEST  Madagascar   \n",
       "4                     imageupload_(crf)_3  AA00970209  TRAIN      Guinea   \n",
       "\n",
       "          Subject  age sex  fitzpatrick                           body_loc  \\\n",
       "0  AA00971820-R P   49   f            5              arm, back, hand, butt   \n",
       "1  AA00970301-M T   11   m            3                               hair   \n",
       "2  AA00971619-N B    3   m            3  back, hand, torso, arm, leg, butt   \n",
       "3  AA00970197-R H   56   f            4                                NaN   \n",
       "4  AA00970209-M C   21   f            6                                arm   \n",
       "\n",
       "   impetig                        diagnosis   icd10   icd11  \\\n",
       "0      0.0                          Scabies     B86    1G04   \n",
       "1      0.0                    Tinea Capitis   B35.0  1F28.0   \n",
       "2      0.0                          Scabies     B86    1G04   \n",
       "3      1.0  Atopic Dermatitis Impetigenized  L20.82  EA80.2   \n",
       "4      0.0                Atopic Dermatitis     L20    EA80   \n",
       "\n",
       "  conditions_PASSION  lbl_conditions_PASSION  \n",
       "0            Scabies                       0  \n",
       "1    Dermatophytosis                       1  \n",
       "2            Scabies                       0  \n",
       "3  Atopic Dermatitis                       2  \n",
       "4  Atopic Dermatitis                       2  "
      ]
     },
     "execution_count": 6,
     "metadata": {},
     "output_type": "execute_result"
    }
   ],
   "source": [
    "dataset.meta_data.head()"
   ]
  },
  {
   "cell_type": "markdown",
   "id": "7a8b257d",
   "metadata": {},
   "source": [
    "## Train Splitting\n",
    "\n",
    "Splitting based on: classes, subject_id, country"
   ]
  },
  {
   "cell_type": "code",
   "execution_count": 9,
   "id": "c8d74607",
   "metadata": {},
   "outputs": [
    {
     "data": {
      "text/plain": [
       "conditions_PASSION\n",
       "1    1341\n",
       "Name: count, dtype: int64"
      ]
     },
     "metadata": {},
     "output_type": "display_data"
    },
    {
     "data": {
      "text/plain": [
       "country\n",
       "1    1341\n",
       "Name: count, dtype: int64"
      ]
     },
     "metadata": {},
     "output_type": "display_data"
    },
    {
     "data": {
      "text/plain": [
       "sex\n",
       "1    1341\n",
       "Name: count, dtype: int64"
      ]
     },
     "metadata": {},
     "output_type": "display_data"
    },
    {
     "data": {
      "text/plain": [
       "age\n",
       "1    1341\n",
       "Name: count, dtype: int64"
      ]
     },
     "metadata": {},
     "output_type": "display_data"
    },
    {
     "data": {
      "text/plain": [
       "fitzpatrick\n",
       "1    1341\n",
       "Name: count, dtype: int64"
      ]
     },
     "metadata": {},
     "output_type": "display_data"
    },
    {
     "data": {
      "text/plain": [
       "body_loc\n",
       "1    1341\n",
       "Name: count, dtype: int64"
      ]
     },
     "metadata": {},
     "output_type": "display_data"
    }
   ],
   "source": [
    "_df = dataset.meta_data.groupby('subject_id').agg(list)\n",
    "for _c in ['conditions_PASSION', 'country', 'sex', 'age', 'fitzpatrick', 'body_loc']:\n",
    "    display(_df[_c].apply(lambda x: len(set(x))).value_counts())"
   ]
  },
  {
   "cell_type": "code",
   "execution_count": 43,
   "id": "88a2a129",
   "metadata": {},
   "outputs": [],
   "source": [
    "df_splitting = dataset.meta_data.drop_duplicates(subset=['subject_id'])\n",
    "stratified_label = df_splitting['conditions_PASSION'].astype(str) + df_splitting['country'].astype(str)\n",
    "subjects_train, subjects_test = train_test_split(df_splitting['subject_id'].values, stratify=stratified_label, train_size=0.80, random_state=42)"
   ]
  },
  {
   "cell_type": "code",
   "execution_count": 44,
   "id": "04ae25b7",
   "metadata": {},
   "outputs": [
    {
     "data": {
      "text/plain": [
       "((1072,), (269,))"
      ]
     },
     "execution_count": 44,
     "metadata": {},
     "output_type": "execute_result"
    }
   ],
   "source": [
    "subjects_train.shape, subjects_test.shape"
   ]
  },
  {
   "cell_type": "code",
   "execution_count": 56,
   "id": "c79a7eae",
   "metadata": {},
   "outputs": [],
   "source": [
    "df_train = dataset.meta_data[dataset.meta_data['subject_id'].isin(subjects_train)]\n",
    "df_test = dataset.meta_data[dataset.meta_data['subject_id'].isin(subjects_test)]"
   ]
  },
  {
   "cell_type": "code",
   "execution_count": 58,
   "id": "eb08839a",
   "metadata": {},
   "outputs": [],
   "source": [
    "_sel_train = dataset.meta_data['subject_id'].isin(subjects_train)\n",
    "_sel_test = dataset.meta_data['subject_id'].isin(subjects_test)\n",
    "dataset.meta_data.loc[_sel_train, 'Split'] = 'TRAIN'\n",
    "dataset.meta_data.loc[_sel_test, 'Split'] = 'TEST'"
   ]
  },
  {
   "cell_type": "code",
   "execution_count": 59,
   "id": "ce67adda",
   "metadata": {},
   "outputs": [
    {
     "data": {
      "text/plain": [
       "Split\n",
       "TRAIN    3387\n",
       "TEST      856\n",
       "Name: count, dtype: int64"
      ]
     },
     "execution_count": 59,
     "metadata": {},
     "output_type": "execute_result"
    }
   ],
   "source": [
    "dataset.meta_data['Split'].value_counts()"
   ]
  },
  {
   "cell_type": "code",
   "execution_count": 52,
   "id": "91f94c03",
   "metadata": {},
   "outputs": [
    {
     "data": {
      "text/plain": [
       "set()"
      ]
     },
     "execution_count": 52,
     "metadata": {},
     "output_type": "execute_result"
    }
   ],
   "source": [
    "set.intersection(set(df_train['subject_id'].unique()), set(df_test['subject_id'].unique()))"
   ]
  },
  {
   "cell_type": "code",
   "execution_count": 73,
   "id": "6f9a94e9",
   "metadata": {},
   "outputs": [],
   "source": [
    "df_subjects_train = pd.DataFrame(subjects_train, columns=['subject_id'])\n",
    "df_subjects_train['Split'] = 'TRAIN'\n",
    "\n",
    "df_subjects_test = pd.DataFrame(subjects_test, columns=['subject_id'])\n",
    "df_subjects_test['Split'] = 'TEST'\n",
    "\n",
    "pd.concat([df_subjects_train, df_subjects_test]).to_csv('../data/PASSION/PASSION_collection_2020_2023/PASSION_split.csv', index=False)"
   ]
  },
  {
   "cell_type": "code",
   "execution_count": 55,
   "id": "30e8a90e",
   "metadata": {
    "scrolled": false
   },
   "outputs": [
    {
     "data": {
      "image/png": "[encoded data removed]",
      "text/plain": [
       "<Figure size 500x300 with 1 Axes>"
      ]
     },
     "metadata": {},
     "output_type": "display_data"
    },
    {
     "data": {
      "image/png": "[encoded data removed]",
      "text/plain": [
       "<Figure size 500x300 with 1 Axes>"
      ]
     },
     "metadata": {},
     "output_type": "display_data"
    },
    {
     "data": {
      "image/png": "[encoded data removed]",
      "text/plain": [
       "<Figure size 500x300 with 1 Axes>"
      ]
     },
     "metadata": {},
     "output_type": "display_data"
    },
    {
     "data": {
      "image/png": "[encoded data removed]",
      "text/plain": [
       "<Figure size 500x300 with 1 Axes>"
      ]
     },
     "metadata": {},
     "output_type": "display_data"
    }
   ],
   "source": [
    "for _c in ['conditions_PASSION', 'country']:\n",
    "    for _df in [df_train, df_test]:\n",
    "        _df[_c].value_counts().plot(kind='bar', figsize=(5,3))\n",
    "        plt.show()"
   ]
  },
  {
   "cell_type": "code",
   "execution_count": null,
   "id": "24c75c47",
   "metadata": {},
   "outputs": [],
   "source": []
  },
  {
   "cell_type": "code",
   "execution_count": null,
   "id": "32747283",
   "metadata": {},
   "outputs": [],
   "source": []
  },
  {
   "cell_type": "code",
   "execution_count": null,
   "id": "957edf14",
   "metadata": {},
   "outputs": [],
   "source": []
  },
  {
   "cell_type": "code",
   "execution_count": null,
   "id": "a30b3266",
   "metadata": {},
   "outputs": [],
   "source": []
  },
  {
   "cell_type": "code",
   "execution_count": null,
   "id": "971002b9",
   "metadata": {},
   "outputs": [],
   "source": []
  },
  {
   "cell_type": "code",
   "execution_count": null,
   "id": "9200a521",
   "metadata": {},
   "outputs": [],
   "source": []
  }
 ],
 "metadata": {
  "kernelspec": {
   "display_name": "Python 3 (ipykernel)",
   "language": "python",
   "name": "python3"
  },
  "language_info": {
   "codemirror_mode": {
    "name": "ipython",
    "version": 3
   },
   "file_extension": ".py",
   "mimetype": "text/x-python",
   "name": "python",
   "nbconvert_exporter": "python",
   "pygments_lexer": "ipython3",
   "version": "3.9.18"
  }
 },
 "nbformat": 4,
 "nbformat_minor": 5
}
